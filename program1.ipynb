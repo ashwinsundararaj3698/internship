{
  "nbformat": 4,
  "nbformat_minor": 0,
  "metadata": {
    "colab": {
      "name": "program1.ipynb",
      "version": "0.3.2",
      "provenance": [],
      "include_colab_link": true
    },
    "kernelspec": {
      "name": "python3",
      "display_name": "Python 3"
    }
  },
  "cells": [
    {
      "cell_type": "markdown",
      "metadata": {
        "id": "view-in-github",
        "colab_type": "text"
      },
      "source": [
        "<a href=\"https://colab.research.google.com/github/ashwinsundararaj3698/internship/blob/master/program1.ipynb\" target=\"_parent\"><img src=\"https://colab.research.google.com/assets/colab-badge.svg\" alt=\"Open In Colab\"/></a>"
      ]
    },
    {
      "cell_type": "code",
      "metadata": {
        "id": "gAbme1iR4yMn",
        "colab_type": "code",
        "colab": {
          "base_uri": "https://localhost:8080/",
          "height": 34
        },
        "outputId": "1254f8a7-24d3-4953-f92a-81e7c1421b05"
      },
      "source": [
        "n=2+3\n",
        "print(n)"
      ],
      "execution_count": 2,
      "outputs": [
        {
          "output_type": "stream",
          "text": [
            "5\n"
          ],
          "name": "stdout"
        }
      ]
    },
    {
      "cell_type": "code",
      "metadata": {
        "id": "wcv72Mr75VS0",
        "colab_type": "code",
        "colab": {
          "base_uri": "https://localhost:8080/",
          "height": 34
        },
        "outputId": "18eeec2f-7981-41ac-b3b0-53205bf72ae4"
      },
      "source": [
        "a='channabasaveshwara ' \n",
        "a+'institute of technology!'"
      ],
      "execution_count": 5,
      "outputs": [
        {
          "output_type": "execute_result",
          "data": {
            "text/plain": [
              "'channabasaveshwara institute of technology!'"
            ]
          },
          "metadata": {
            "tags": []
          },
          "execution_count": 5
        }
      ]
    },
    {
      "cell_type": "code",
      "metadata": {
        "id": "zchPzK4857Zz",
        "colab_type": "code",
        "colab": {
          "base_uri": "https://localhost:8080/",
          "height": 34
        },
        "outputId": "3748d850-f5be-4fb2-eb59-f0d9c29302a3"
      },
      "source": [
        "a='my name is '\n",
        "a+'ashwin!'"
      ],
      "execution_count": 6,
      "outputs": [
        {
          "output_type": "execute_result",
          "data": {
            "text/plain": [
              "'my name is ashwin!'"
            ]
          },
          "metadata": {
            "tags": []
          },
          "execution_count": 6
        }
      ]
    },
    {
      "cell_type": "code",
      "metadata": {
        "id": "_iQPNngw6Pv8",
        "colab_type": "code",
        "colab": {
          "base_uri": "https://localhost:8080/",
          "height": 34
        },
        "outputId": "9a5baa5e-801b-4ea0-fd69-b6be16ebeda4"
      },
      "source": [
        "type('bike')"
      ],
      "execution_count": 8,
      "outputs": [
        {
          "output_type": "execute_result",
          "data": {
            "text/plain": [
              "str"
            ]
          },
          "metadata": {
            "tags": []
          },
          "execution_count": 8
        }
      ]
    },
    {
      "cell_type": "code",
      "metadata": {
        "id": "ccOkmCPl8Y1o",
        "colab_type": "code",
        "colab": {
          "base_uri": "https://localhost:8080/",
          "height": 34
        },
        "outputId": "a7c2df0d-57e7-4561-e5b3-3c62055bf0b8"
      },
      "source": [
        "type(123)"
      ],
      "execution_count": 9,
      "outputs": [
        {
          "output_type": "execute_result",
          "data": {
            "text/plain": [
              "int"
            ]
          },
          "metadata": {
            "tags": []
          },
          "execution_count": 9
        }
      ]
    },
    {
      "cell_type": "code",
      "metadata": {
        "id": "2O9WkU8F8tfo",
        "colab_type": "code",
        "colab": {
          "base_uri": "https://localhost:8080/",
          "height": 34
        },
        "outputId": "e86e87ca-ec76-49b2-cbed-d3fab52324e9"
      },
      "source": [
        "type(0.09)"
      ],
      "execution_count": 10,
      "outputs": [
        {
          "output_type": "execute_result",
          "data": {
            "text/plain": [
              "float"
            ]
          },
          "metadata": {
            "tags": []
          },
          "execution_count": 10
        }
      ]
    },
    {
      "cell_type": "code",
      "metadata": {
        "id": "mdiO5wUF-EX5",
        "colab_type": "code",
        "colab": {
          "base_uri": "https://localhost:8080/",
          "height": 34
        },
        "outputId": "9a5058f0-67e2-43da-9b22-9e73233eeddb"
      },
      "source": [
        "x=3\n",
        "x*2"
      ],
      "execution_count": 11,
      "outputs": [
        {
          "output_type": "execute_result",
          "data": {
            "text/plain": [
              "6"
            ]
          },
          "metadata": {
            "tags": []
          },
          "execution_count": 11
        }
      ]
    },
    {
      "cell_type": "code",
      "metadata": {
        "id": "dQ85uIzd-Vnp",
        "colab_type": "code",
        "colab": {
          "base_uri": "https://localhost:8080/",
          "height": 34
        },
        "outputId": "cf026652-9427-464f-debe-fa5d03c58942"
      },
      "source": [
        "2*3==6"
      ],
      "execution_count": 13,
      "outputs": [
        {
          "output_type": "execute_result",
          "data": {
            "text/plain": [
              "True"
            ]
          },
          "metadata": {
            "tags": []
          },
          "execution_count": 13
        }
      ]
    },
    {
      "cell_type": "code",
      "metadata": {
        "id": "8b-_ScMa-ffh",
        "colab_type": "code",
        "colab": {
          "base_uri": "https://localhost:8080/",
          "height": 34
        },
        "outputId": "2becb9ed-3a22-4975-bb18-09660dab53d9"
      },
      "source": [
        "2*5==9"
      ],
      "execution_count": 14,
      "outputs": [
        {
          "output_type": "execute_result",
          "data": {
            "text/plain": [
              "False"
            ]
          },
          "metadata": {
            "tags": []
          },
          "execution_count": 14
        }
      ]
    },
    {
      "cell_type": "code",
      "metadata": {
        "id": "rx9wC2q7-nDX",
        "colab_type": "code",
        "colab": {
          "base_uri": "https://localhost:8080/",
          "height": 34
        },
        "outputId": "aa625be9-2eae-418e-d893-147eccc2e464"
      },
      "source": [
        "2*5!=9"
      ],
      "execution_count": 15,
      "outputs": [
        {
          "output_type": "execute_result",
          "data": {
            "text/plain": [
              "True"
            ]
          },
          "metadata": {
            "tags": []
          },
          "execution_count": 15
        }
      ]
    },
    {
      "cell_type": "code",
      "metadata": {
        "id": "YA9JkBU9FCrb",
        "colab_type": "code",
        "colab": {
          "base_uri": "https://localhost:8080/",
          "height": 34
        },
        "outputId": "d3840d71-bc0f-4b26-efa3-2e1f049a49e3"
      },
      "source": [
        "1>100"
      ],
      "execution_count": 16,
      "outputs": [
        {
          "output_type": "execute_result",
          "data": {
            "text/plain": [
              "False"
            ]
          },
          "metadata": {
            "tags": []
          },
          "execution_count": 16
        }
      ]
    },
    {
      "cell_type": "code",
      "metadata": {
        "id": "VoNiWDE4FKR3",
        "colab_type": "code",
        "colab": {
          "base_uri": "https://localhost:8080/",
          "height": 34
        },
        "outputId": "0460175e-1f69-4f07-a80b-e7b793d11b04"
      },
      "source": [
        "range(500)"
      ],
      "execution_count": 17,
      "outputs": [
        {
          "output_type": "execute_result",
          "data": {
            "text/plain": [
              "range(0, 500)"
            ]
          },
          "metadata": {
            "tags": []
          },
          "execution_count": 17
        }
      ]
    },
    {
      "cell_type": "code",
      "metadata": {
        "id": "qh8dcFIEGwBp",
        "colab_type": "code",
        "colab": {
          "base_uri": "https://localhost:8080/",
          "height": 1000
        },
        "outputId": "722296fa-1e8f-403e-de81-581e88d326e7"
      },
      "source": [
        "[8*n for n in range(0,500)]"
      ],
      "execution_count": 24,
      "outputs": [
        {
          "output_type": "execute_result",
          "data": {
            "text/plain": [
              "[0,\n",
              " 8,\n",
              " 16,\n",
              " 24,\n",
              " 32,\n",
              " 40,\n",
              " 48,\n",
              " 56,\n",
              " 64,\n",
              " 72,\n",
              " 80,\n",
              " 88,\n",
              " 96,\n",
              " 104,\n",
              " 112,\n",
              " 120,\n",
              " 128,\n",
              " 136,\n",
              " 144,\n",
              " 152,\n",
              " 160,\n",
              " 168,\n",
              " 176,\n",
              " 184,\n",
              " 192,\n",
              " 200,\n",
              " 208,\n",
              " 216,\n",
              " 224,\n",
              " 232,\n",
              " 240,\n",
              " 248,\n",
              " 256,\n",
              " 264,\n",
              " 272,\n",
              " 280,\n",
              " 288,\n",
              " 296,\n",
              " 304,\n",
              " 312,\n",
              " 320,\n",
              " 328,\n",
              " 336,\n",
              " 344,\n",
              " 352,\n",
              " 360,\n",
              " 368,\n",
              " 376,\n",
              " 384,\n",
              " 392,\n",
              " 400,\n",
              " 408,\n",
              " 416,\n",
              " 424,\n",
              " 432,\n",
              " 440,\n",
              " 448,\n",
              " 456,\n",
              " 464,\n",
              " 472,\n",
              " 480,\n",
              " 488,\n",
              " 496,\n",
              " 504,\n",
              " 512,\n",
              " 520,\n",
              " 528,\n",
              " 536,\n",
              " 544,\n",
              " 552,\n",
              " 560,\n",
              " 568,\n",
              " 576,\n",
              " 584,\n",
              " 592,\n",
              " 600,\n",
              " 608,\n",
              " 616,\n",
              " 624,\n",
              " 632,\n",
              " 640,\n",
              " 648,\n",
              " 656,\n",
              " 664,\n",
              " 672,\n",
              " 680,\n",
              " 688,\n",
              " 696,\n",
              " 704,\n",
              " 712,\n",
              " 720,\n",
              " 728,\n",
              " 736,\n",
              " 744,\n",
              " 752,\n",
              " 760,\n",
              " 768,\n",
              " 776,\n",
              " 784,\n",
              " 792,\n",
              " 800,\n",
              " 808,\n",
              " 816,\n",
              " 824,\n",
              " 832,\n",
              " 840,\n",
              " 848,\n",
              " 856,\n",
              " 864,\n",
              " 872,\n",
              " 880,\n",
              " 888,\n",
              " 896,\n",
              " 904,\n",
              " 912,\n",
              " 920,\n",
              " 928,\n",
              " 936,\n",
              " 944,\n",
              " 952,\n",
              " 960,\n",
              " 968,\n",
              " 976,\n",
              " 984,\n",
              " 992,\n",
              " 1000,\n",
              " 1008,\n",
              " 1016,\n",
              " 1024,\n",
              " 1032,\n",
              " 1040,\n",
              " 1048,\n",
              " 1056,\n",
              " 1064,\n",
              " 1072,\n",
              " 1080,\n",
              " 1088,\n",
              " 1096,\n",
              " 1104,\n",
              " 1112,\n",
              " 1120,\n",
              " 1128,\n",
              " 1136,\n",
              " 1144,\n",
              " 1152,\n",
              " 1160,\n",
              " 1168,\n",
              " 1176,\n",
              " 1184,\n",
              " 1192,\n",
              " 1200,\n",
              " 1208,\n",
              " 1216,\n",
              " 1224,\n",
              " 1232,\n",
              " 1240,\n",
              " 1248,\n",
              " 1256,\n",
              " 1264,\n",
              " 1272,\n",
              " 1280,\n",
              " 1288,\n",
              " 1296,\n",
              " 1304,\n",
              " 1312,\n",
              " 1320,\n",
              " 1328,\n",
              " 1336,\n",
              " 1344,\n",
              " 1352,\n",
              " 1360,\n",
              " 1368,\n",
              " 1376,\n",
              " 1384,\n",
              " 1392,\n",
              " 1400,\n",
              " 1408,\n",
              " 1416,\n",
              " 1424,\n",
              " 1432,\n",
              " 1440,\n",
              " 1448,\n",
              " 1456,\n",
              " 1464,\n",
              " 1472,\n",
              " 1480,\n",
              " 1488,\n",
              " 1496,\n",
              " 1504,\n",
              " 1512,\n",
              " 1520,\n",
              " 1528,\n",
              " 1536,\n",
              " 1544,\n",
              " 1552,\n",
              " 1560,\n",
              " 1568,\n",
              " 1576,\n",
              " 1584,\n",
              " 1592,\n",
              " 1600,\n",
              " 1608,\n",
              " 1616,\n",
              " 1624,\n",
              " 1632,\n",
              " 1640,\n",
              " 1648,\n",
              " 1656,\n",
              " 1664,\n",
              " 1672,\n",
              " 1680,\n",
              " 1688,\n",
              " 1696,\n",
              " 1704,\n",
              " 1712,\n",
              " 1720,\n",
              " 1728,\n",
              " 1736,\n",
              " 1744,\n",
              " 1752,\n",
              " 1760,\n",
              " 1768,\n",
              " 1776,\n",
              " 1784,\n",
              " 1792,\n",
              " 1800,\n",
              " 1808,\n",
              " 1816,\n",
              " 1824,\n",
              " 1832,\n",
              " 1840,\n",
              " 1848,\n",
              " 1856,\n",
              " 1864,\n",
              " 1872,\n",
              " 1880,\n",
              " 1888,\n",
              " 1896,\n",
              " 1904,\n",
              " 1912,\n",
              " 1920,\n",
              " 1928,\n",
              " 1936,\n",
              " 1944,\n",
              " 1952,\n",
              " 1960,\n",
              " 1968,\n",
              " 1976,\n",
              " 1984,\n",
              " 1992,\n",
              " 2000,\n",
              " 2008,\n",
              " 2016,\n",
              " 2024,\n",
              " 2032,\n",
              " 2040,\n",
              " 2048,\n",
              " 2056,\n",
              " 2064,\n",
              " 2072,\n",
              " 2080,\n",
              " 2088,\n",
              " 2096,\n",
              " 2104,\n",
              " 2112,\n",
              " 2120,\n",
              " 2128,\n",
              " 2136,\n",
              " 2144,\n",
              " 2152,\n",
              " 2160,\n",
              " 2168,\n",
              " 2176,\n",
              " 2184,\n",
              " 2192,\n",
              " 2200,\n",
              " 2208,\n",
              " 2216,\n",
              " 2224,\n",
              " 2232,\n",
              " 2240,\n",
              " 2248,\n",
              " 2256,\n",
              " 2264,\n",
              " 2272,\n",
              " 2280,\n",
              " 2288,\n",
              " 2296,\n",
              " 2304,\n",
              " 2312,\n",
              " 2320,\n",
              " 2328,\n",
              " 2336,\n",
              " 2344,\n",
              " 2352,\n",
              " 2360,\n",
              " 2368,\n",
              " 2376,\n",
              " 2384,\n",
              " 2392,\n",
              " 2400,\n",
              " 2408,\n",
              " 2416,\n",
              " 2424,\n",
              " 2432,\n",
              " 2440,\n",
              " 2448,\n",
              " 2456,\n",
              " 2464,\n",
              " 2472,\n",
              " 2480,\n",
              " 2488,\n",
              " 2496,\n",
              " 2504,\n",
              " 2512,\n",
              " 2520,\n",
              " 2528,\n",
              " 2536,\n",
              " 2544,\n",
              " 2552,\n",
              " 2560,\n",
              " 2568,\n",
              " 2576,\n",
              " 2584,\n",
              " 2592,\n",
              " 2600,\n",
              " 2608,\n",
              " 2616,\n",
              " 2624,\n",
              " 2632,\n",
              " 2640,\n",
              " 2648,\n",
              " 2656,\n",
              " 2664,\n",
              " 2672,\n",
              " 2680,\n",
              " 2688,\n",
              " 2696,\n",
              " 2704,\n",
              " 2712,\n",
              " 2720,\n",
              " 2728,\n",
              " 2736,\n",
              " 2744,\n",
              " 2752,\n",
              " 2760,\n",
              " 2768,\n",
              " 2776,\n",
              " 2784,\n",
              " 2792,\n",
              " 2800,\n",
              " 2808,\n",
              " 2816,\n",
              " 2824,\n",
              " 2832,\n",
              " 2840,\n",
              " 2848,\n",
              " 2856,\n",
              " 2864,\n",
              " 2872,\n",
              " 2880,\n",
              " 2888,\n",
              " 2896,\n",
              " 2904,\n",
              " 2912,\n",
              " 2920,\n",
              " 2928,\n",
              " 2936,\n",
              " 2944,\n",
              " 2952,\n",
              " 2960,\n",
              " 2968,\n",
              " 2976,\n",
              " 2984,\n",
              " 2992,\n",
              " 3000,\n",
              " 3008,\n",
              " 3016,\n",
              " 3024,\n",
              " 3032,\n",
              " 3040,\n",
              " 3048,\n",
              " 3056,\n",
              " 3064,\n",
              " 3072,\n",
              " 3080,\n",
              " 3088,\n",
              " 3096,\n",
              " 3104,\n",
              " 3112,\n",
              " 3120,\n",
              " 3128,\n",
              " 3136,\n",
              " 3144,\n",
              " 3152,\n",
              " 3160,\n",
              " 3168,\n",
              " 3176,\n",
              " 3184,\n",
              " 3192,\n",
              " 3200,\n",
              " 3208,\n",
              " 3216,\n",
              " 3224,\n",
              " 3232,\n",
              " 3240,\n",
              " 3248,\n",
              " 3256,\n",
              " 3264,\n",
              " 3272,\n",
              " 3280,\n",
              " 3288,\n",
              " 3296,\n",
              " 3304,\n",
              " 3312,\n",
              " 3320,\n",
              " 3328,\n",
              " 3336,\n",
              " 3344,\n",
              " 3352,\n",
              " 3360,\n",
              " 3368,\n",
              " 3376,\n",
              " 3384,\n",
              " 3392,\n",
              " 3400,\n",
              " 3408,\n",
              " 3416,\n",
              " 3424,\n",
              " 3432,\n",
              " 3440,\n",
              " 3448,\n",
              " 3456,\n",
              " 3464,\n",
              " 3472,\n",
              " 3480,\n",
              " 3488,\n",
              " 3496,\n",
              " 3504,\n",
              " 3512,\n",
              " 3520,\n",
              " 3528,\n",
              " 3536,\n",
              " 3544,\n",
              " 3552,\n",
              " 3560,\n",
              " 3568,\n",
              " 3576,\n",
              " 3584,\n",
              " 3592,\n",
              " 3600,\n",
              " 3608,\n",
              " 3616,\n",
              " 3624,\n",
              " 3632,\n",
              " 3640,\n",
              " 3648,\n",
              " 3656,\n",
              " 3664,\n",
              " 3672,\n",
              " 3680,\n",
              " 3688,\n",
              " 3696,\n",
              " 3704,\n",
              " 3712,\n",
              " 3720,\n",
              " 3728,\n",
              " 3736,\n",
              " 3744,\n",
              " 3752,\n",
              " 3760,\n",
              " 3768,\n",
              " 3776,\n",
              " 3784,\n",
              " 3792,\n",
              " 3800,\n",
              " 3808,\n",
              " 3816,\n",
              " 3824,\n",
              " 3832,\n",
              " 3840,\n",
              " 3848,\n",
              " 3856,\n",
              " 3864,\n",
              " 3872,\n",
              " 3880,\n",
              " 3888,\n",
              " 3896,\n",
              " 3904,\n",
              " 3912,\n",
              " 3920,\n",
              " 3928,\n",
              " 3936,\n",
              " 3944,\n",
              " 3952,\n",
              " 3960,\n",
              " 3968,\n",
              " 3976,\n",
              " 3984,\n",
              " 3992]"
            ]
          },
          "metadata": {
            "tags": []
          },
          "execution_count": 24
        }
      ]
    },
    {
      "cell_type": "code",
      "metadata": {
        "id": "hib07vzJJ8c7",
        "colab_type": "code",
        "colab": {
          "base_uri": "https://localhost:8080/",
          "height": 1000
        },
        "outputId": "49cd439d-5233-416a-8349-40a4b0f8047d"
      },
      "source": [
        "for n in range (0,500):\n",
        "    print(n*8)"
      ],
      "execution_count": 23,
      "outputs": [
        {
          "output_type": "stream",
          "text": [
            "0\n",
            "8\n",
            "16\n",
            "24\n",
            "32\n",
            "40\n",
            "48\n",
            "56\n",
            "64\n",
            "72\n",
            "80\n",
            "88\n",
            "96\n",
            "104\n",
            "112\n",
            "120\n",
            "128\n",
            "136\n",
            "144\n",
            "152\n",
            "160\n",
            "168\n",
            "176\n",
            "184\n",
            "192\n",
            "200\n",
            "208\n",
            "216\n",
            "224\n",
            "232\n",
            "240\n",
            "248\n",
            "256\n",
            "264\n",
            "272\n",
            "280\n",
            "288\n",
            "296\n",
            "304\n",
            "312\n",
            "320\n",
            "328\n",
            "336\n",
            "344\n",
            "352\n",
            "360\n",
            "368\n",
            "376\n",
            "384\n",
            "392\n",
            "400\n",
            "408\n",
            "416\n",
            "424\n",
            "432\n",
            "440\n",
            "448\n",
            "456\n",
            "464\n",
            "472\n",
            "480\n",
            "488\n",
            "496\n",
            "504\n",
            "512\n",
            "520\n",
            "528\n",
            "536\n",
            "544\n",
            "552\n",
            "560\n",
            "568\n",
            "576\n",
            "584\n",
            "592\n",
            "600\n",
            "608\n",
            "616\n",
            "624\n",
            "632\n",
            "640\n",
            "648\n",
            "656\n",
            "664\n",
            "672\n",
            "680\n",
            "688\n",
            "696\n",
            "704\n",
            "712\n",
            "720\n",
            "728\n",
            "736\n",
            "744\n",
            "752\n",
            "760\n",
            "768\n",
            "776\n",
            "784\n",
            "792\n",
            "800\n",
            "808\n",
            "816\n",
            "824\n",
            "832\n",
            "840\n",
            "848\n",
            "856\n",
            "864\n",
            "872\n",
            "880\n",
            "888\n",
            "896\n",
            "904\n",
            "912\n",
            "920\n",
            "928\n",
            "936\n",
            "944\n",
            "952\n",
            "960\n",
            "968\n",
            "976\n",
            "984\n",
            "992\n",
            "1000\n",
            "1008\n",
            "1016\n",
            "1024\n",
            "1032\n",
            "1040\n",
            "1048\n",
            "1056\n",
            "1064\n",
            "1072\n",
            "1080\n",
            "1088\n",
            "1096\n",
            "1104\n",
            "1112\n",
            "1120\n",
            "1128\n",
            "1136\n",
            "1144\n",
            "1152\n",
            "1160\n",
            "1168\n",
            "1176\n",
            "1184\n",
            "1192\n",
            "1200\n",
            "1208\n",
            "1216\n",
            "1224\n",
            "1232\n",
            "1240\n",
            "1248\n",
            "1256\n",
            "1264\n",
            "1272\n",
            "1280\n",
            "1288\n",
            "1296\n",
            "1304\n",
            "1312\n",
            "1320\n",
            "1328\n",
            "1336\n",
            "1344\n",
            "1352\n",
            "1360\n",
            "1368\n",
            "1376\n",
            "1384\n",
            "1392\n",
            "1400\n",
            "1408\n",
            "1416\n",
            "1424\n",
            "1432\n",
            "1440\n",
            "1448\n",
            "1456\n",
            "1464\n",
            "1472\n",
            "1480\n",
            "1488\n",
            "1496\n",
            "1504\n",
            "1512\n",
            "1520\n",
            "1528\n",
            "1536\n",
            "1544\n",
            "1552\n",
            "1560\n",
            "1568\n",
            "1576\n",
            "1584\n",
            "1592\n",
            "1600\n",
            "1608\n",
            "1616\n",
            "1624\n",
            "1632\n",
            "1640\n",
            "1648\n",
            "1656\n",
            "1664\n",
            "1672\n",
            "1680\n",
            "1688\n",
            "1696\n",
            "1704\n",
            "1712\n",
            "1720\n",
            "1728\n",
            "1736\n",
            "1744\n",
            "1752\n",
            "1760\n",
            "1768\n",
            "1776\n",
            "1784\n",
            "1792\n",
            "1800\n",
            "1808\n",
            "1816\n",
            "1824\n",
            "1832\n",
            "1840\n",
            "1848\n",
            "1856\n",
            "1864\n",
            "1872\n",
            "1880\n",
            "1888\n",
            "1896\n",
            "1904\n",
            "1912\n",
            "1920\n",
            "1928\n",
            "1936\n",
            "1944\n",
            "1952\n",
            "1960\n",
            "1968\n",
            "1976\n",
            "1984\n",
            "1992\n",
            "2000\n",
            "2008\n",
            "2016\n",
            "2024\n",
            "2032\n",
            "2040\n",
            "2048\n",
            "2056\n",
            "2064\n",
            "2072\n",
            "2080\n",
            "2088\n",
            "2096\n",
            "2104\n",
            "2112\n",
            "2120\n",
            "2128\n",
            "2136\n",
            "2144\n",
            "2152\n",
            "2160\n",
            "2168\n",
            "2176\n",
            "2184\n",
            "2192\n",
            "2200\n",
            "2208\n",
            "2216\n",
            "2224\n",
            "2232\n",
            "2240\n",
            "2248\n",
            "2256\n",
            "2264\n",
            "2272\n",
            "2280\n",
            "2288\n",
            "2296\n",
            "2304\n",
            "2312\n",
            "2320\n",
            "2328\n",
            "2336\n",
            "2344\n",
            "2352\n",
            "2360\n",
            "2368\n",
            "2376\n",
            "2384\n",
            "2392\n",
            "2400\n",
            "2408\n",
            "2416\n",
            "2424\n",
            "2432\n",
            "2440\n",
            "2448\n",
            "2456\n",
            "2464\n",
            "2472\n",
            "2480\n",
            "2488\n",
            "2496\n",
            "2504\n",
            "2512\n",
            "2520\n",
            "2528\n",
            "2536\n",
            "2544\n",
            "2552\n",
            "2560\n",
            "2568\n",
            "2576\n",
            "2584\n",
            "2592\n",
            "2600\n",
            "2608\n",
            "2616\n",
            "2624\n",
            "2632\n",
            "2640\n",
            "2648\n",
            "2656\n",
            "2664\n",
            "2672\n",
            "2680\n",
            "2688\n",
            "2696\n",
            "2704\n",
            "2712\n",
            "2720\n",
            "2728\n",
            "2736\n",
            "2744\n",
            "2752\n",
            "2760\n",
            "2768\n",
            "2776\n",
            "2784\n",
            "2792\n",
            "2800\n",
            "2808\n",
            "2816\n",
            "2824\n",
            "2832\n",
            "2840\n",
            "2848\n",
            "2856\n",
            "2864\n",
            "2872\n",
            "2880\n",
            "2888\n",
            "2896\n",
            "2904\n",
            "2912\n",
            "2920\n",
            "2928\n",
            "2936\n",
            "2944\n",
            "2952\n",
            "2960\n",
            "2968\n",
            "2976\n",
            "2984\n",
            "2992\n",
            "3000\n",
            "3008\n",
            "3016\n",
            "3024\n",
            "3032\n",
            "3040\n",
            "3048\n",
            "3056\n",
            "3064\n",
            "3072\n",
            "3080\n",
            "3088\n",
            "3096\n",
            "3104\n",
            "3112\n",
            "3120\n",
            "3128\n",
            "3136\n",
            "3144\n",
            "3152\n",
            "3160\n",
            "3168\n",
            "3176\n",
            "3184\n",
            "3192\n",
            "3200\n",
            "3208\n",
            "3216\n",
            "3224\n",
            "3232\n",
            "3240\n",
            "3248\n",
            "3256\n",
            "3264\n",
            "3272\n",
            "3280\n",
            "3288\n",
            "3296\n",
            "3304\n",
            "3312\n",
            "3320\n",
            "3328\n",
            "3336\n",
            "3344\n",
            "3352\n",
            "3360\n",
            "3368\n",
            "3376\n",
            "3384\n",
            "3392\n",
            "3400\n",
            "3408\n",
            "3416\n",
            "3424\n",
            "3432\n",
            "3440\n",
            "3448\n",
            "3456\n",
            "3464\n",
            "3472\n",
            "3480\n",
            "3488\n",
            "3496\n",
            "3504\n",
            "3512\n",
            "3520\n",
            "3528\n",
            "3536\n",
            "3544\n",
            "3552\n",
            "3560\n",
            "3568\n",
            "3576\n",
            "3584\n",
            "3592\n",
            "3600\n",
            "3608\n",
            "3616\n",
            "3624\n",
            "3632\n",
            "3640\n",
            "3648\n",
            "3656\n",
            "3664\n",
            "3672\n",
            "3680\n",
            "3688\n",
            "3696\n",
            "3704\n",
            "3712\n",
            "3720\n",
            "3728\n",
            "3736\n",
            "3744\n",
            "3752\n",
            "3760\n",
            "3768\n",
            "3776\n",
            "3784\n",
            "3792\n",
            "3800\n",
            "3808\n",
            "3816\n",
            "3824\n",
            "3832\n",
            "3840\n",
            "3848\n",
            "3856\n",
            "3864\n",
            "3872\n",
            "3880\n",
            "3888\n",
            "3896\n",
            "3904\n",
            "3912\n",
            "3920\n",
            "3928\n",
            "3936\n",
            "3944\n",
            "3952\n",
            "3960\n",
            "3968\n",
            "3976\n",
            "3984\n",
            "3992\n"
          ],
          "name": "stdout"
        }
      ]
    },
    {
      "cell_type": "code",
      "metadata": {
        "id": "nJN5HakjNPQ2",
        "colab_type": "code",
        "colab": {
          "base_uri": "https://localhost:8080/",
          "height": 51
        },
        "outputId": "898a3747-2767-4314-b18d-2adb64836bb3"
      },
      "source": [
        "a=[2,1,6,4,3,5,7,9,8]\n",
        "a.sort()\n",
        "print('ascending order',a)\n",
        "a.sort(reverse=True)\n",
        "print('descending order',a)"
      ],
      "execution_count": 29,
      "outputs": [
        {
          "output_type": "stream",
          "text": [
            "ascending order [1, 2, 3, 4, 5, 6, 7, 8, 9]\n",
            "descending order [9, 8, 7, 6, 5, 4, 3, 2, 1]\n"
          ],
          "name": "stdout"
        }
      ]
    },
    {
      "cell_type": "code",
      "metadata": {
        "id": "M-2uR-GYP24V",
        "colab_type": "code",
        "colab": {
          "base_uri": "https://localhost:8080/",
          "height": 34
        },
        "outputId": "7e7f676a-8dbf-4082-e187-06f1e788917c"
      },
      "source": [
        ">>> names=['ash','kou','anoop','char']\n",
        ">>> names"
      ],
      "execution_count": 33,
      "outputs": [
        {
          "output_type": "execute_result",
          "data": {
            "text/plain": [
              "['ash', 'kou', 'anoop', 'char']"
            ]
          },
          "metadata": {
            "tags": []
          },
          "execution_count": 33
        }
      ]
    },
    {
      "cell_type": "code",
      "metadata": {
        "id": "P0iLPpZiQ6PR",
        "colab_type": "code",
        "colab": {
          "base_uri": "https://localhost:8080/",
          "height": 34
        },
        "outputId": "b8df3532-0fe4-4cab-cf98-ba326d68362a"
      },
      "source": [
        "a=['chennai','banglore','hyderabad']\n",
        "print(a[2])"
      ],
      "execution_count": 37,
      "outputs": [
        {
          "output_type": "stream",
          "text": [
            "hyderabad\n"
          ],
          "name": "stdout"
        }
      ]
    },
    {
      "cell_type": "code",
      "metadata": {
        "id": "9TmqcHgPUimw",
        "colab_type": "code",
        "colab": {}
      },
      "source": [
        ""
      ],
      "execution_count": 0,
      "outputs": []
    },
    {
      "cell_type": "code",
      "metadata": {
        "id": "HKcvl7z-UiyX",
        "colab_type": "code",
        "colab": {}
      },
      "source": [
        ""
      ],
      "execution_count": 0,
      "outputs": []
    }
  ]
}